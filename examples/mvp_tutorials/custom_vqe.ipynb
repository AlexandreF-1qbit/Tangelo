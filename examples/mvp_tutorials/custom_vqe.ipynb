{
 "metadata": {
  "language_info": {
   "codemirror_mode": {
    "name": "ipython",
    "version": 3
   },
   "file_extension": ".py",
   "mimetype": "text/x-python",
   "name": "python",
   "nbconvert_exporter": "python",
   "pygments_lexer": "ipython3",
   "version": "3.7.0-final"
  },
  "orig_nbformat": 2,
  "kernelspec": {
   "name": "python370jvsc74a57bd0e534e48711db4d1e1c48977d0d14ff85b1f16d41bcc4fdfd88268a329b3c9d66",
   "display_name": "Python 3.7.0 64-bit"
  }
 },
 "nbformat": 4,
 "nbformat_minor": 2,
 "cells": [
  {
   "source": [
    "# qSDK VQE: Custom Ansatz Tutorial\n",
    "The qSDK comes packaged with an implementation of both the UCCSD, and rUCC ansatze. In this tutorial, we'll explore how you can incorporate the built in VQESolver into your own workflow, by introducing a user-defined custom ansatz circuit. We'll base our work here on the *VQESolver* class, and take advantage of tools available through the qSDK and *agnostic_simulator* package. "
   ],
   "cell_type": "markdown",
   "metadata": {}
  },
  {
   "cell_type": "code",
   "execution_count": 3,
   "metadata": {},
   "outputs": [],
   "source": [
    "import numpy as np\n",
    "from qsdk.electronic_structure_solvers.vqe_solver import VQESolver\n",
    "from qsdk.toolboxes.ansatz_generator.ansatz import Ansatz\n",
    "from agnostic_simulator import Circuit, Gate"
   ]
  },
  {
   "source": [
    "In the VQESolver, we are expecting an instance of an abstract Ansatz class, which will be responsible for constructing the variational circuit we use to minimize the energy of our problem. For our example, I'm going to implement the so-called [Hardware Efficient Ansatz](https://arxiv.org/pdf/1704.05018.pdf) (HEA), developed by Kandala et al at IBM. In this ansatz, a circuit is constructed with repeated layers of a simple structure. Each layer consists of entangling gates (e.g. CNOT or CZ) which couple neighbouring qubits, followed by a series of Euler rotations carried out as single-qubit rotations $\\mathrm{exp}\\{i\\theta_i^1 Z_i\\}\\mathrm{exp}\\{i\\theta_i^2 X_i\\}\\mathrm{exp}\\{i\\theta_i^3 Z_i\\}$. We'll start by initializing our *Ansatz* class, and then fill in the functionality required to implement in *VQESolver*."
   ],
   "cell_type": "markdown",
   "metadata": {}
  },
  {
   "source": [
    "To construct our HEA ansatz, we're going to make use of the two helper functions defined here. The first will go through a register of qubits and add a layer of Euler-rotations as prescribed above. The second adds two columns of alternating CNOT gates, establishing long-range entanglement."
   ],
   "cell_type": "markdown",
   "metadata": {}
  },
  {
   "cell_type": "code",
   "execution_count": 54,
   "metadata": {},
   "outputs": [],
   "source": [
    "def EulerCircuit(n_qubits):\n",
    "    \"\"\"Construct a circuit applying an Euler Z-X-Z rotation to each qubit.\"\"\"\n",
    "    circuit = Circuit()\n",
    "    for target in range(n_qubits):\n",
    "        circuit.add_gate(Gate(\"RZ\" , target, parameter=0.0, is_variational=True))\n",
    "        circuit.add_gate(Gate(\"RX\", target, parameter=0.0, is_variational=True))\n",
    "        circuit.add_gate(Gate(\"RZ\", target, parameter=0.0, is_variational=True))\n",
    "    return circuit\n",
    "\n",
    "def Entanglers(n_qubits):\n",
    "    \"\"\"Construct a circuit applying two columns of staggered CNOT gates to all qubits\n",
    "     and their neighbours\"\"\"\n",
    "    circuit = Circuit()\n",
    "    for ii in range(n_qubits//2):\n",
    "        circuit.add_gate(Gate(\"CNOT\", control=2*ii, target=2*ii + 1))\n",
    "    for ii in range(n_qubits//2 - 1):\n",
    "        circuit.add_gate(Gate(\"CNOT\", control=2*ii + 1, target=2*(ii+1)))\n",
    "    return circuit"
   ]
  },
  {
   "source": [
    "To build up our own Ansatz class, we'll require the following.\n",
    "\n",
    "0. *__init__*: an initialization function to instantiate the class.\n",
    "1. *set_var_params*: initialize the variational circuit parameters\n",
    "2. *update_var_params*: update the parametric gates in the circuit\n",
    "3. *build_circuit*: instantiate the variational circuit object\n",
    "4. *prepare_reference_state*: get fixed circuit for initializing the reference, e.g. HF state.\n",
    "\n",
    "Below, we're going to type out the entire class as we will use it. This is a lot of code in one place. So afterwards, we'll break it down into each of the relevant member methods."
   ],
   "cell_type": "markdown",
   "metadata": {}
  },
  {
   "cell_type": "code",
   "execution_count": 62,
   "metadata": {},
   "outputs": [],
   "source": [
    "class HEA(Ansatz):\n",
    "\n",
    "    def __init__(self, n_qubits, n_electrons, n_layers, mapping='jw'):\n",
    "\n",
    "        self.n_qubits = n_qubits\n",
    "        self.n_electrons = n_electrons\n",
    "        #number of layers of repeated entangler + Euler rotations\n",
    "        self.n_layers = n_layers\n",
    "        \n",
    "        #specify fermion-to-qubit mapping (required for the initial reference state)\n",
    "        self.mapping = mapping\n",
    "        \n",
    "        #Each layer has 3 variational parameters per qubit, and one non-variational entangler\n",
    "        #There is an additional layer with no entangler.\n",
    "        self.n_var_params = self.n_qubits * 3 * (self.n_layers + 1)\n",
    "\n",
    "        self.var_params = None\n",
    "        self.circuit = None\n",
    "\n",
    "    def set_var_params(self, var_params=None):\n",
    "        \"\"\"Set initial variational parameter values\"\"\"\n",
    "        if var_params is None:\n",
    "            var_params = np.random.random(self.n_var_params)\n",
    "        elif var_params.size != self.n_var_params:\n",
    "            raise ValueError('Invalid number of parameters.')\n",
    "        self.var_params = var_params\n",
    "        return var_params\n",
    "\n",
    "    def update_var_params(self, var_params):\n",
    "        \"\"\"Update variational parameters (done repeatedly during VQE)\"\"\"\n",
    "        for param_index in range(self.n_var_params):\n",
    "            self.circuit._variational_gates[param_index].parameter = var_params[param_index]\n",
    "    \n",
    "    def prepare_reference_state(self):\n",
    "        \"\"\"Prepare a circuit generating the HF reference state\"\"\"\n",
    "        return get_reference_circuit(n_qubits=self.n_qubits,\n",
    "                                     n_electrons=self.n_electrons,\n",
    "                                     mapping=self.mapping)\n",
    "\n",
    "    def build_circuit(self, var_params=None):\n",
    "        \"\"\"Construct the variational circuit to be used as our ansatz.\"\"\"\n",
    "        self.var_params = self.set_var_params(var_params)\n",
    "\n",
    "        circuit = EulerCircuit(self.n_qubits)\n",
    "        for ii in range(self.n_layers):\n",
    "            circuit += Entanglers(self.n_qubits)\n",
    "            circuit += EulerCircuit(self.n_qubits)\n",
    "\n",
    "        reference_state_circuit = self.prepare_reference_state()\n",
    "        \n",
    "        if reference_state_circuit.size != 0:\n",
    "            self.circuit = reference_state_circuit + circuit\n",
    "        else:\n",
    "            self.circuit = circuit\n",
    "        return circuit"
   ]
  },
  {
   "source": [
    "Now let's parse out what's happening in each of these member methods we just defined. Let's start with *set_var_params*. I'm going to do something very simple and just force this to be a random numpy array. "
   ],
   "cell_type": "markdown",
   "metadata": {}
  },
  {
   "cell_type": "code",
   "execution_count": 56,
   "metadata": {},
   "outputs": [],
   "source": [
    "def set_var_params(self, var_params=None):\n",
    "\n",
    "    if var_params is None:\n",
    "        var_params = np.random.random(self.n_var_params)\n",
    "    elif var_params.size != self.n_var_params:\n",
    "        raise ValueError('Invalid number of parameters.')\n",
    "    self.var_params = var_params\n",
    "    return var_params\n"
   ]
  },
  {
   "source": [
    "Next, we'll implement *update_var_params*, where the circuit is updated with a new batch of variational parameters. All variational gates in the circuit are updated as required."
   ],
   "cell_type": "markdown",
   "metadata": {}
  },
  {
   "cell_type": "code",
   "execution_count": 57,
   "metadata": {},
   "outputs": [],
   "source": [
    "def update_var_params(self, var_params):\n",
    "\n",
    "    for param_index in range(self.n_var_params):\n",
    "        self.circuit._variational_gates[param_index].parameter = var_params[param_index]"
   ]
  },
  {
   "source": [
    "Next, we'll use the methods from the *qubit_mappings* toolbox to construct a Hartree-Fock reference state."
   ],
   "cell_type": "markdown",
   "metadata": {}
  },
  {
   "cell_type": "code",
   "execution_count": 39,
   "metadata": {},
   "outputs": [],
   "source": [
    "from qsdk.toolboxes.qubit_mappings.statevector_mapping import get_reference_circuit\n",
    "\n",
    "def prepare_reference_state(self):\n",
    "\n",
    "    return get_reference_circuit(n_qubits=self.n_qubits,\n",
    "                                         n_electrons=self.n_electrons,\n",
    "                                         mapping=self.mapping)"
   ]
  },
  {
   "source": [
    "Finally, we'll implement the *build_circuit* method. As compared to the three others here, this is really the only method in the present case that requires much thought. Evidently, everything above has followed pretty boilerplate code. For this, we're just going to alternate between entanglers and Euler rotations."
   ],
   "cell_type": "markdown",
   "metadata": {}
  },
  {
   "cell_type": "code",
   "execution_count": 63,
   "metadata": {},
   "outputs": [],
   "source": [
    "def build_circuit(self, var_params=None):\n",
    "    \"\"\"Construct the variational circuit to be used as our ansatz.\"\"\"\n",
    "    self.var_params = self.set_var_params(var_params)\n",
    "\n",
    "    #Main process: build layers of variational Euler rotations + Entanglers\n",
    "    circuit = EulerCircuit(self.n_qubits)\n",
    "    for ii in range(self.n_layers):\n",
    "        circuit += Entanglers(self.n_qubits)\n",
    "        circuit += EulerCircuit(self.n_qubits)\n",
    "\n",
    "    #Define the reference-state circuit\n",
    "    reference_state_circuit = self.prepare_reference_state()\n",
    "    \n",
    "    #combine reference state with variational ansatz circuit\n",
    "    if reference_state_circuit.size != 0:\n",
    "        self.circuit = reference_state_circuit + circuit\n",
    "    else:\n",
    "        self.circuit = circuit\n",
    "    return circuit"
   ]
  },
  {
   "source": [
    "With the *Ansatz* so defined, we're ready to go ahead and build our VQE solver class, and run a calculation on a molecule of interest. I'm going to use pyscf to build a hydrogen dimer."
   ],
   "cell_type": "markdown",
   "metadata": {}
  },
  {
   "cell_type": "code",
   "execution_count": 59,
   "metadata": {},
   "outputs": [
    {
     "output_type": "execute_result",
     "data": {
      "text/plain": [
       "<pyscf.gto.mole.Mole at 0x7f9f3efcd390>"
      ]
     },
     "metadata": {},
     "execution_count": 59
    }
   ],
   "source": [
    "from pyscf import gto\n",
    "H2 = [('H',(0,0,0)),('H',(0,0,0.74137727))]\n",
    "mol_H2 = gto.Mole()\n",
    "mol_H2.atom = H2\n",
    "mol_H2.basis = \"sto-3g\"\n",
    "mol_H2.charge = 0\n",
    "mol_H2.spin = 0\n",
    "mol_H2.build()"
   ]
  },
  {
   "source": [
    "Great, we're ready to instantiate our ansatz, and feed it into VQE."
   ],
   "cell_type": "markdown",
   "metadata": {}
  },
  {
   "cell_type": "code",
   "execution_count": 64,
   "metadata": {},
   "outputs": [
    {
     "output_type": "stream",
     "name": "stdout",
     "text": [
      "Optimization terminated successfully.    (Exit mode 0)\n            Current function value: -1.137257605548561\n            Iterations: 38\n            Function evaluations: 2358\n            Gradient evaluations: 38\n"
     ]
    },
    {
     "output_type": "execute_result",
     "data": {
      "text/plain": [
       "-1.137257605548561"
      ]
     },
     "metadata": {},
     "execution_count": 64
    }
   ],
   "source": [
    "HEA_ansatz = HEA(n_qubits = 4, n_electrons = 2, n_layers = 4)\n",
    "options = {\"molecule\": mol_H2, \"qubit_mapping\": 'jw', 'ansatz': HEA_ansatz}\n",
    "\n",
    "HEA_VQE = VQESolver(options)\n",
    "HEA_VQE.build()\n",
    "HEA_VQE.simulate()"
   ]
  },
  {
   "source": [
    "Great, we were expecting -1.137270422018 Ha, and we got this to within 0.1 mHa.\n",
    "\n",
    "So to summarize what we've done here, we defined an Ansatz class which had member methods allowing us to set and update variational parameters, and build both a reference-state and ansatz circuit.\n",
    "This object was then plugged into the VQESolver to estimate the energy of our molecule of interest. "
   ],
   "cell_type": "markdown",
   "metadata": {}
  },
  {
   "cell_type": "code",
   "execution_count": null,
   "metadata": {},
   "outputs": [],
   "source": []
  }
 ]
}